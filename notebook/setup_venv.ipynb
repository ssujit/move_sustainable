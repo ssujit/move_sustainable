{
 "cells": [
  {
   "cell_type": "code",
   "execution_count": 1,
   "id": "92f0e6e0-6138-4701-8591-497fd2178aa2",
   "metadata": {},
   "outputs": [],
   "source": [
    "!python -m venv ./setup_venv python=3."
   ]
  },
  {
   "cell_type": "code",
   "execution_count": 2,
   "id": "3ec4f020-0e74-44c0-9ea6-fac0e611e78d",
   "metadata": {},
   "outputs": [
    {
     "name": "stdout",
     "output_type": "stream",
     "text": [
      "Requirement already satisfied: seaborn in ./setup_venv/lib/python3.10/site-packages (0.13.2)\n",
      "Requirement already satisfied: geopandas in ./setup_venv/lib/python3.10/site-packages (1.1.0)\n",
      "Requirement already satisfied: requests in ./setup_venv/lib/python3.10/site-packages (2.32.4)\n",
      "Requirement already satisfied: owslib in ./setup_venv/lib/python3.10/site-packages (0.34.1)\n",
      "Requirement already satisfied: folium in ./setup_venv/lib/python3.10/site-packages (0.20.0)\n",
      "Requirement already satisfied: pandas in ./setup_venv/lib/python3.10/site-packages (2.3.0)\n",
      "Requirement already satisfied: fiona in ./setup_venv/lib/python3.10/site-packages (1.10.1)\n",
      "Requirement already satisfied: matplotlib in ./setup_venv/lib/python3.10/site-packages (3.10.3)\n",
      "Requirement already satisfied: mapclassify in ./setup_venv/lib/python3.10/site-packages (2.8.1)\n",
      "Requirement already satisfied: ipykernel in ./setup_venv/lib/python3.10/site-packages (6.29.5)\n",
      "Requirement already satisfied: osmnx in ./setup_venv/lib/python3.10/site-packages (2.0.4)\n",
      "Requirement already satisfied: shapely in ./setup_venv/lib/python3.10/site-packages (2.1.1)\n",
      "Requirement already satisfied: overpy in ./setup_venv/lib/python3.10/site-packages (0.7)\n",
      "Requirement already satisfied: rasterio in ./setup_venv/lib/python3.10/site-packages (1.4.3)\n",
      "Requirement already satisfied: zipfile36 in ./setup_venv/lib/python3.10/site-packages (0.1.3)\n",
      "Requirement already satisfied: rioxarray in ./setup_venv/lib/python3.10/site-packages (0.19.0)\n",
      "Requirement already satisfied: contextily in ./setup_venv/lib/python3.10/site-packages (1.6.2)\n",
      "Requirement already satisfied: earthengine-api in ./setup_venv/lib/python3.10/site-packages (1.5.20)\n",
      "Requirement already satisfied: geemap in ./setup_venv/lib/python3.10/site-packages (0.35.3)\n",
      "Requirement already satisfied: ipyleaflet in ./setup_venv/lib/python3.10/site-packages (0.20.0)\n",
      "Requirement already satisfied: setuptools in ./setup_venv/lib/python3.10/site-packages (65.5.0)\n",
      "Requirement already satisfied: numpy!=1.24.0,>=1.20 in ./setup_venv/lib/python3.10/site-packages (from seaborn) (2.2.6)\n",
      "Requirement already satisfied: pyproj>=3.5.0 in ./setup_venv/lib/python3.10/site-packages (from geopandas) (3.7.1)\n",
      "Requirement already satisfied: packaging in ./setup_venv/lib/python3.10/site-packages (from geopandas) (25.0)\n",
      "Requirement already satisfied: pyogrio>=0.7.2 in ./setup_venv/lib/python3.10/site-packages (from geopandas) (0.11.0)\n",
      "Requirement already satisfied: charset_normalizer<4,>=2 in ./setup_venv/lib/python3.10/site-packages (from requests) (3.4.2)\n",
      "Requirement already satisfied: certifi>=2017.4.17 in ./setup_venv/lib/python3.10/site-packages (from requests) (2025.6.15)\n",
      "Requirement already satisfied: urllib3<3,>=1.21.1 in ./setup_venv/lib/python3.10/site-packages (from requests) (2.4.0)\n",
      "Requirement already satisfied: idna<4,>=2.5 in ./setup_venv/lib/python3.10/site-packages (from requests) (3.10)\n",
      "Requirement already satisfied: python-dateutil in ./setup_venv/lib/python3.10/site-packages (from owslib) (2.9.0.post0)\n",
      "Requirement already satisfied: pyyaml in ./setup_venv/lib/python3.10/site-packages (from owslib) (6.0.2)\n",
      "Requirement already satisfied: lxml in ./setup_venv/lib/python3.10/site-packages (from owslib) (5.4.0)\n",
      "Requirement already satisfied: branca>=0.6.0 in ./setup_venv/lib/python3.10/site-packages (from folium) (0.8.1)\n",
      "Requirement already satisfied: jinja2>=2.9 in ./setup_venv/lib/python3.10/site-packages (from folium) (3.1.6)\n",
      "Requirement already satisfied: xyzservices in ./setup_venv/lib/python3.10/site-packages (from folium) (2025.4.0)\n",
      "Requirement already satisfied: tzdata>=2022.7 in ./setup_venv/lib/python3.10/site-packages (from pandas) (2025.2)\n",
      "Requirement already satisfied: pytz>=2020.1 in ./setup_venv/lib/python3.10/site-packages (from pandas) (2025.2)\n",
      "Requirement already satisfied: click-plugins>=1.0 in ./setup_venv/lib/python3.10/site-packages (from fiona) (1.1.1)\n",
      "Requirement already satisfied: cligj>=0.5 in ./setup_venv/lib/python3.10/site-packages (from fiona) (0.7.2)\n",
      "Requirement already satisfied: attrs>=19.2.0 in ./setup_venv/lib/python3.10/site-packages (from fiona) (25.3.0)\n",
      "Requirement already satisfied: click~=8.0 in ./setup_venv/lib/python3.10/site-packages (from fiona) (8.2.1)\n",
      "Requirement already satisfied: contourpy>=1.0.1 in ./setup_venv/lib/python3.10/site-packages (from matplotlib) (1.3.2)\n",
      "Requirement already satisfied: kiwisolver>=1.3.1 in ./setup_venv/lib/python3.10/site-packages (from matplotlib) (1.4.8)\n",
      "Requirement already satisfied: fonttools>=4.22.0 in ./setup_venv/lib/python3.10/site-packages (from matplotlib) (4.58.4)\n",
      "Requirement already satisfied: cycler>=0.10 in ./setup_venv/lib/python3.10/site-packages (from matplotlib) (0.12.1)\n",
      "Requirement already satisfied: pyparsing>=2.3.1 in ./setup_venv/lib/python3.10/site-packages (from matplotlib) (3.2.3)\n",
      "Requirement already satisfied: pillow>=8 in ./setup_venv/lib/python3.10/site-packages (from matplotlib) (11.2.1)\n",
      "Requirement already satisfied: scipy>=1.8 in ./setup_venv/lib/python3.10/site-packages (from mapclassify) (1.15.3)\n",
      "Requirement already satisfied: scikit-learn>=1.0 in ./setup_venv/lib/python3.10/site-packages (from mapclassify) (1.7.0)\n",
      "Requirement already satisfied: networkx>=2.7 in ./setup_venv/lib/python3.10/site-packages (from mapclassify) (3.4.2)\n",
      "Requirement already satisfied: psutil in ./setup_venv/lib/python3.10/site-packages (from ipykernel) (7.0.0)\n",
      "Requirement already satisfied: tornado>=6.1 in ./setup_venv/lib/python3.10/site-packages (from ipykernel) (6.5.1)\n",
      "Requirement already satisfied: traitlets>=5.4.0 in ./setup_venv/lib/python3.10/site-packages (from ipykernel) (5.14.3)\n",
      "Requirement already satisfied: jupyter-core!=5.0.*,>=4.12 in ./setup_venv/lib/python3.10/site-packages (from ipykernel) (5.8.1)\n",
      "Requirement already satisfied: comm>=0.1.1 in ./setup_venv/lib/python3.10/site-packages (from ipykernel) (0.2.2)\n",
      "Requirement already satisfied: debugpy>=1.6.5 in ./setup_venv/lib/python3.10/site-packages (from ipykernel) (1.8.14)\n",
      "Requirement already satisfied: ipython>=7.23.1 in ./setup_venv/lib/python3.10/site-packages (from ipykernel) (8.37.0)\n",
      "Requirement already satisfied: nest-asyncio in ./setup_venv/lib/python3.10/site-packages (from ipykernel) (1.6.0)\n",
      "Requirement already satisfied: matplotlib-inline>=0.1 in ./setup_venv/lib/python3.10/site-packages (from ipykernel) (0.1.7)\n",
      "Requirement already satisfied: pyzmq>=24 in ./setup_venv/lib/python3.10/site-packages (from ipykernel) (27.0.0)\n",
      "Requirement already satisfied: jupyter-client>=6.1.12 in ./setup_venv/lib/python3.10/site-packages (from ipykernel) (8.6.3)\n",
      "Requirement already satisfied: affine in ./setup_venv/lib/python3.10/site-packages (from rasterio) (2.4.0)\n",
      "Requirement already satisfied: xarray>=2024.7.0 in ./setup_venv/lib/python3.10/site-packages (from rioxarray) (2025.6.1)\n",
      "Requirement already satisfied: mercantile in ./setup_venv/lib/python3.10/site-packages (from contextily) (1.2.1)\n",
      "Requirement already satisfied: geopy in ./setup_venv/lib/python3.10/site-packages (from contextily) (2.4.1)\n",
      "Requirement already satisfied: joblib in ./setup_venv/lib/python3.10/site-packages (from contextily) (1.5.1)\n",
      "Requirement already satisfied: google-auth>=1.4.1 in ./setup_venv/lib/python3.10/site-packages (from earthengine-api) (2.40.3)\n",
      "Requirement already satisfied: google-api-python-client>=1.12.1 in ./setup_venv/lib/python3.10/site-packages (from earthengine-api) (2.172.0)\n",
      "Requirement already satisfied: google-cloud-storage in ./setup_venv/lib/python3.10/site-packages (from earthengine-api) (3.1.0)\n",
      "Requirement already satisfied: google-auth-httplib2>=0.0.3 in ./setup_venv/lib/python3.10/site-packages (from earthengine-api) (0.2.0)\n",
      "Requirement already satisfied: httplib2<1dev,>=0.9.2 in ./setup_venv/lib/python3.10/site-packages (from earthengine-api) (0.22.0)\n",
      "Requirement already satisfied: bqplot in ./setup_venv/lib/python3.10/site-packages (from geemap) (0.12.45)\n",
      "Requirement already satisfied: eerepr>=0.1.0 in ./setup_venv/lib/python3.10/site-packages (from geemap) (0.1.2)\n",
      "Requirement already satisfied: ipyfilechooser>=0.6.0 in ./setup_venv/lib/python3.10/site-packages (from geemap) (0.6.0)\n",
      "Requirement already satisfied: ipyevents in ./setup_venv/lib/python3.10/site-packages (from geemap) (2.0.2)\n",
      "Requirement already satisfied: ipytree in ./setup_venv/lib/python3.10/site-packages (from geemap) (0.2.2)\n",
      "Requirement already satisfied: pyshp>=2.3.1 in ./setup_venv/lib/python3.10/site-packages (from geemap) (2.3.1)\n",
      "Requirement already satisfied: colour in ./setup_venv/lib/python3.10/site-packages (from geemap) (0.1.5)\n",
      "Requirement already satisfied: plotly in ./setup_venv/lib/python3.10/site-packages (from geemap) (6.1.2)\n",
      "Requirement already satisfied: scooby in ./setup_venv/lib/python3.10/site-packages (from geemap) (0.10.1)\n",
      "Requirement already satisfied: pyperclip in ./setup_venv/lib/python3.10/site-packages (from geemap) (1.9.0)\n",
      "Requirement already satisfied: python-box in ./setup_venv/lib/python3.10/site-packages (from geemap) (7.3.2)\n",
      "Requirement already satisfied: geocoder in ./setup_venv/lib/python3.10/site-packages (from geemap) (1.38.1)\n",
      "Requirement already satisfied: jupyter-leaflet<0.21,>=0.20 in ./setup_venv/lib/python3.10/site-packages (from ipyleaflet) (0.20.0)\n",
      "Requirement already satisfied: traittypes<3,>=0.2.1 in ./setup_venv/lib/python3.10/site-packages (from ipyleaflet) (0.2.1)\n",
      "Requirement already satisfied: ipywidgets<9,>=7.6.0 in ./setup_venv/lib/python3.10/site-packages (from ipyleaflet) (8.1.7)\n",
      "Requirement already satisfied: google-api-core!=2.0.*,!=2.1.*,!=2.2.*,!=2.3.0,<3.0.0,>=1.31.5 in ./setup_venv/lib/python3.10/site-packages (from google-api-python-client>=1.12.1->earthengine-api) (2.25.1)\n",
      "Requirement already satisfied: uritemplate<5,>=3.0.1 in ./setup_venv/lib/python3.10/site-packages (from google-api-python-client>=1.12.1->earthengine-api) (4.2.0)\n",
      "Requirement already satisfied: rsa<5,>=3.1.4 in ./setup_venv/lib/python3.10/site-packages (from google-auth>=1.4.1->earthengine-api) (4.9.1)\n",
      "Requirement already satisfied: cachetools<6.0,>=2.0.0 in ./setup_venv/lib/python3.10/site-packages (from google-auth>=1.4.1->earthengine-api) (5.5.2)\n",
      "Requirement already satisfied: pyasn1-modules>=0.2.1 in ./setup_venv/lib/python3.10/site-packages (from google-auth>=1.4.1->earthengine-api) (0.4.2)\n",
      "Requirement already satisfied: exceptiongroup in ./setup_venv/lib/python3.10/site-packages (from ipython>=7.23.1->ipykernel) (1.3.0)\n",
      "Requirement already satisfied: typing_extensions>=4.6 in ./setup_venv/lib/python3.10/site-packages (from ipython>=7.23.1->ipykernel) (4.14.0)\n",
      "Requirement already satisfied: pexpect>4.3 in ./setup_venv/lib/python3.10/site-packages (from ipython>=7.23.1->ipykernel) (4.9.0)\n",
      "Requirement already satisfied: decorator in ./setup_venv/lib/python3.10/site-packages (from ipython>=7.23.1->ipykernel) (5.2.1)\n",
      "Requirement already satisfied: prompt_toolkit<3.1.0,>=3.0.41 in ./setup_venv/lib/python3.10/site-packages (from ipython>=7.23.1->ipykernel) (3.0.51)\n",
      "Requirement already satisfied: jedi>=0.16 in ./setup_venv/lib/python3.10/site-packages (from ipython>=7.23.1->ipykernel) (0.19.2)\n",
      "Requirement already satisfied: stack_data in ./setup_venv/lib/python3.10/site-packages (from ipython>=7.23.1->ipykernel) (0.6.3)\n",
      "Requirement already satisfied: pygments>=2.4.0 in ./setup_venv/lib/python3.10/site-packages (from ipython>=7.23.1->ipykernel) (2.19.1)\n",
      "Requirement already satisfied: jupyterlab_widgets~=3.0.15 in ./setup_venv/lib/python3.10/site-packages (from ipywidgets<9,>=7.6.0->ipyleaflet) (3.0.15)\n",
      "Requirement already satisfied: widgetsnbextension~=4.0.14 in ./setup_venv/lib/python3.10/site-packages (from ipywidgets<9,>=7.6.0->ipyleaflet) (4.0.14)\n",
      "Requirement already satisfied: MarkupSafe>=2.0 in ./setup_venv/lib/python3.10/site-packages (from jinja2>=2.9->folium) (3.0.2)\n",
      "Requirement already satisfied: platformdirs>=2.5 in ./setup_venv/lib/python3.10/site-packages (from jupyter-core!=5.0.*,>=4.12->ipykernel) (4.3.8)\n",
      "Requirement already satisfied: six>=1.5 in ./setup_venv/lib/python3.10/site-packages (from python-dateutil->owslib) (1.17.0)\n",
      "Requirement already satisfied: threadpoolctl>=3.1.0 in ./setup_venv/lib/python3.10/site-packages (from scikit-learn>=1.0->mapclassify) (3.6.0)\n",
      "Requirement already satisfied: future in ./setup_venv/lib/python3.10/site-packages (from geocoder->geemap) (1.0.0)\n",
      "Requirement already satisfied: ratelim in ./setup_venv/lib/python3.10/site-packages (from geocoder->geemap) (0.1.6)\n",
      "Requirement already satisfied: geographiclib<3,>=1.52 in ./setup_venv/lib/python3.10/site-packages (from geopy->contextily) (2.0)\n",
      "Requirement already satisfied: google-resumable-media>=2.7.2 in ./setup_venv/lib/python3.10/site-packages (from google-cloud-storage->earthengine-api) (2.7.2)\n",
      "Requirement already satisfied: google-cloud-core<3.0dev,>=2.4.2 in ./setup_venv/lib/python3.10/site-packages (from google-cloud-storage->earthengine-api) (2.4.3)\n",
      "Requirement already satisfied: google-crc32c<2.0dev,>=1.0 in ./setup_venv/lib/python3.10/site-packages (from google-cloud-storage->earthengine-api) (1.7.1)\n",
      "Requirement already satisfied: narwhals>=1.15.1 in ./setup_venv/lib/python3.10/site-packages (from plotly->geemap) (1.43.0)\n",
      "Requirement already satisfied: googleapis-common-protos<2.0.0,>=1.56.2 in ./setup_venv/lib/python3.10/site-packages (from google-api-core!=2.0.*,!=2.1.*,!=2.2.*,!=2.3.0,<3.0.0,>=1.31.5->google-api-python-client>=1.12.1->earthengine-api) (1.70.0)\n",
      "Requirement already satisfied: protobuf!=3.20.0,!=3.20.1,!=4.21.0,!=4.21.1,!=4.21.2,!=4.21.3,!=4.21.4,!=4.21.5,<7.0.0,>=3.19.5 in ./setup_venv/lib/python3.10/site-packages (from google-api-core!=2.0.*,!=2.1.*,!=2.2.*,!=2.3.0,<3.0.0,>=1.31.5->google-api-python-client>=1.12.1->earthengine-api) (6.31.1)\n",
      "Requirement already satisfied: proto-plus<2.0.0,>=1.22.3 in ./setup_venv/lib/python3.10/site-packages (from google-api-core!=2.0.*,!=2.1.*,!=2.2.*,!=2.3.0,<3.0.0,>=1.31.5->google-api-python-client>=1.12.1->earthengine-api) (1.26.1)\n",
      "Requirement already satisfied: parso<0.9.0,>=0.8.4 in ./setup_venv/lib/python3.10/site-packages (from jedi>=0.16->ipython>=7.23.1->ipykernel) (0.8.4)\n",
      "Requirement already satisfied: ptyprocess>=0.5 in ./setup_venv/lib/python3.10/site-packages (from pexpect>4.3->ipython>=7.23.1->ipykernel) (0.7.0)\n",
      "Requirement already satisfied: wcwidth in ./setup_venv/lib/python3.10/site-packages (from prompt_toolkit<3.1.0,>=3.0.41->ipython>=7.23.1->ipykernel) (0.2.13)\n",
      "Requirement already satisfied: pyasn1<0.7.0,>=0.6.1 in ./setup_venv/lib/python3.10/site-packages (from pyasn1-modules>=0.2.1->google-auth>=1.4.1->earthengine-api) (0.6.1)\n",
      "Requirement already satisfied: pure-eval in ./setup_venv/lib/python3.10/site-packages (from stack_data->ipython>=7.23.1->ipykernel) (0.2.3)\n",
      "Requirement already satisfied: executing>=1.2.0 in ./setup_venv/lib/python3.10/site-packages (from stack_data->ipython>=7.23.1->ipykernel) (2.2.0)\n",
      "Requirement already satisfied: asttokens>=2.1.0 in ./setup_venv/lib/python3.10/site-packages (from stack_data->ipython>=7.23.1->ipykernel) (3.0.0)\n",
      "\n",
      "\u001b[1m[\u001b[0m\u001b[34;49mnotice\u001b[0m\u001b[1;39;49m]\u001b[0m\u001b[39;49m A new release of pip is available: \u001b[0m\u001b[31;49m23.0.1\u001b[0m\u001b[39;49m -> \u001b[0m\u001b[32;49m25.1.1\u001b[0m\n",
      "\u001b[1m[\u001b[0m\u001b[34;49mnotice\u001b[0m\u001b[1;39;49m]\u001b[0m\u001b[39;49m To update, run: \u001b[0m\u001b[32;49mpython -m pip install --upgrade pip\u001b[0m\n"
     ]
    }
   ],
   "source": [
    "!./setup_venv/bin/python -m pip install seaborn geopandas requests owslib folium pandas fiona matplotlib folium mapclassify ipykernel osmnx shapely overpy fiona seaborn rasterio zipfile36 rioxarray contextily earthengine-api geemap ipyleaflet setuptools ipyleaflet "
   ]
  },
  {
   "cell_type": "code",
   "execution_count": 3,
   "id": "2accdb89-df15-49f3-9d75-3bebcff2ec38",
   "metadata": {},
   "outputs": [
    {
     "name": "stdout",
     "output_type": "stream",
     "text": [
      "/bin/bash: line 1: ./setup_venv_sc/bin/python: No such file or directory\n"
     ]
    }
   ],
   "source": [
    "!./setup_venv_sc/bin/python -m ipykernel install --user --name=setup_geo_edu"
   ]
  },
  {
   "cell_type": "code",
   "execution_count": 4,
   "id": "e97942b6-6f2a-46c7-9d13-cf55d132dce0",
   "metadata": {},
   "outputs": [
    {
     "name": "stdout",
     "output_type": "stream",
     "text": [
      "Requirement already satisfied: ipykernel in /srv/conda/envs/notebook/lib/python3.10/site-packages (6.29.5)\n",
      "Requirement already satisfied: comm>=0.1.1 in /srv/conda/envs/notebook/lib/python3.10/site-packages (from ipykernel) (0.2.2)\n",
      "Requirement already satisfied: debugpy>=1.6.5 in /srv/conda/envs/notebook/lib/python3.10/site-packages (from ipykernel) (1.8.12)\n",
      "Requirement already satisfied: ipython>=7.23.1 in /srv/conda/envs/notebook/lib/python3.10/site-packages (from ipykernel) (8.32.0)\n",
      "Requirement already satisfied: jupyter-client>=6.1.12 in /srv/conda/envs/notebook/lib/python3.10/site-packages (from ipykernel) (8.6.3)\n",
      "Requirement already satisfied: jupyter-core!=5.0.*,>=4.12 in /srv/conda/envs/notebook/lib/python3.10/site-packages (from ipykernel) (5.7.2)\n",
      "Requirement already satisfied: matplotlib-inline>=0.1 in /srv/conda/envs/notebook/lib/python3.10/site-packages (from ipykernel) (0.1.7)\n",
      "Requirement already satisfied: nest-asyncio in /srv/conda/envs/notebook/lib/python3.10/site-packages (from ipykernel) (1.6.0)\n",
      "Requirement already satisfied: packaging in /srv/conda/envs/notebook/lib/python3.10/site-packages (from ipykernel) (24.2)\n",
      "Requirement already satisfied: psutil in /srv/conda/envs/notebook/lib/python3.10/site-packages (from ipykernel) (5.9.8)\n",
      "Requirement already satisfied: pyzmq>=24 in /srv/conda/envs/notebook/lib/python3.10/site-packages (from ipykernel) (26.2.1)\n",
      "Requirement already satisfied: tornado>=6.1 in /srv/conda/envs/notebook/lib/python3.10/site-packages (from ipykernel) (6.4.2)\n",
      "Requirement already satisfied: traitlets>=5.4.0 in /srv/conda/envs/notebook/lib/python3.10/site-packages (from ipykernel) (5.14.3)\n",
      "Requirement already satisfied: decorator in /srv/conda/envs/notebook/lib/python3.10/site-packages (from ipython>=7.23.1->ipykernel) (5.1.1)\n",
      "Requirement already satisfied: exceptiongroup in /srv/conda/envs/notebook/lib/python3.10/site-packages (from ipython>=7.23.1->ipykernel) (1.2.2)\n",
      "Requirement already satisfied: jedi>=0.16 in /srv/conda/envs/notebook/lib/python3.10/site-packages (from ipython>=7.23.1->ipykernel) (0.19.2)\n",
      "Requirement already satisfied: pexpect>4.3 in /srv/conda/envs/notebook/lib/python3.10/site-packages (from ipython>=7.23.1->ipykernel) (4.9.0)\n",
      "Requirement already satisfied: prompt_toolkit<3.1.0,>=3.0.41 in /srv/conda/envs/notebook/lib/python3.10/site-packages (from ipython>=7.23.1->ipykernel) (3.0.50)\n",
      "Requirement already satisfied: pygments>=2.4.0 in /srv/conda/envs/notebook/lib/python3.10/site-packages (from ipython>=7.23.1->ipykernel) (2.19.1)\n",
      "Requirement already satisfied: stack_data in /srv/conda/envs/notebook/lib/python3.10/site-packages (from ipython>=7.23.1->ipykernel) (0.6.3)\n",
      "Requirement already satisfied: typing_extensions>=4.6 in /srv/conda/envs/notebook/lib/python3.10/site-packages (from ipython>=7.23.1->ipykernel) (4.12.2)\n",
      "Requirement already satisfied: wcwidth in /srv/conda/envs/notebook/lib/python3.10/site-packages (from prompt_toolkit<3.1.0,>=3.0.41->ipython>=7.23.1->ipykernel) (0.2.13)\n",
      "Requirement already satisfied: parso<0.9.0,>=0.8.4 in /srv/conda/envs/notebook/lib/python3.10/site-packages (from jedi>=0.16->ipython>=7.23.1->ipykernel) (0.8.4)\n",
      "Requirement already satisfied: python-dateutil>=2.8.2 in /srv/conda/envs/notebook/lib/python3.10/site-packages (from jupyter-client>=6.1.12->ipykernel) (2.9.0.post0)\n",
      "Requirement already satisfied: platformdirs>=2.5 in /srv/conda/envs/notebook/lib/python3.10/site-packages (from jupyter-core!=5.0.*,>=4.12->ipykernel) (4.3.6)\n",
      "Requirement already satisfied: ptyprocess>=0.5 in /srv/conda/envs/notebook/lib/python3.10/site-packages (from pexpect>4.3->ipython>=7.23.1->ipykernel) (0.7.0)\n",
      "Requirement already satisfied: six>=1.5 in /srv/conda/envs/notebook/lib/python3.10/site-packages (from python-dateutil>=2.8.2->jupyter-client>=6.1.12->ipykernel) (1.17.0)\n",
      "Requirement already satisfied: executing>=1.2.0 in /srv/conda/envs/notebook/lib/python3.10/site-packages (from stack_data->ipython>=7.23.1->ipykernel) (2.1.0)\n",
      "Requirement already satisfied: asttokens>=2.1.0 in /srv/conda/envs/notebook/lib/python3.10/site-packages (from stack_data->ipython>=7.23.1->ipykernel) (3.0.0)\n",
      "Requirement already satisfied: pure_eval in /srv/conda/envs/notebook/lib/python3.10/site-packages (from stack_data->ipython>=7.23.1->ipykernel) (0.2.3)\n",
      "Note: you may need to restart the kernel to use updated packages.\n"
     ]
    }
   ],
   "source": [
    "pip install ipykernel"
   ]
  },
  {
   "cell_type": "code",
   "execution_count": 5,
   "id": "a2bf7a69-a91e-414a-a00d-7924a8de206a",
   "metadata": {},
   "outputs": [
    {
     "name": "stdout",
     "output_type": "stream",
     "text": [
      "Requirement already satisfied: folium in /srv/conda/envs/notebook/lib/python3.10/site-packages (0.20.0)\n",
      "Requirement already satisfied: matplotlib in /srv/conda/envs/notebook/lib/python3.10/site-packages (3.10.3)\n",
      "Requirement already satisfied: mapclassify in /srv/conda/envs/notebook/lib/python3.10/site-packages (2.8.1)\n",
      "Requirement already satisfied: branca>=0.6.0 in /srv/conda/envs/notebook/lib/python3.10/site-packages (from folium) (0.8.1)\n",
      "Requirement already satisfied: jinja2>=2.9 in /srv/conda/envs/notebook/lib/python3.10/site-packages (from folium) (3.1.5)\n",
      "Requirement already satisfied: numpy in /srv/conda/envs/notebook/lib/python3.10/site-packages (from folium) (2.2.6)\n",
      "Requirement already satisfied: requests in /srv/conda/envs/notebook/lib/python3.10/site-packages (from folium) (2.32.3)\n",
      "Requirement already satisfied: xyzservices in /srv/conda/envs/notebook/lib/python3.10/site-packages (from folium) (2025.4.0)\n",
      "Requirement already satisfied: contourpy>=1.0.1 in /srv/conda/envs/notebook/lib/python3.10/site-packages (from matplotlib) (1.3.2)\n",
      "Requirement already satisfied: cycler>=0.10 in /srv/conda/envs/notebook/lib/python3.10/site-packages (from matplotlib) (0.12.1)\n",
      "Requirement already satisfied: fonttools>=4.22.0 in /srv/conda/envs/notebook/lib/python3.10/site-packages (from matplotlib) (4.58.4)\n",
      "Requirement already satisfied: kiwisolver>=1.3.1 in /srv/conda/envs/notebook/lib/python3.10/site-packages (from matplotlib) (1.4.8)\n",
      "Requirement already satisfied: packaging>=20.0 in /srv/conda/envs/notebook/lib/python3.10/site-packages (from matplotlib) (24.2)\n",
      "Requirement already satisfied: pillow>=8 in /srv/conda/envs/notebook/lib/python3.10/site-packages (from matplotlib) (11.2.1)\n",
      "Requirement already satisfied: pyparsing>=2.3.1 in /srv/conda/envs/notebook/lib/python3.10/site-packages (from matplotlib) (3.2.3)\n",
      "Requirement already satisfied: python-dateutil>=2.7 in /srv/conda/envs/notebook/lib/python3.10/site-packages (from matplotlib) (2.9.0.post0)\n",
      "Requirement already satisfied: networkx>=2.7 in /srv/conda/envs/notebook/lib/python3.10/site-packages (from mapclassify) (3.4.2)\n",
      "Requirement already satisfied: pandas!=1.5.0,>=1.4 in /srv/conda/envs/notebook/lib/python3.10/site-packages (from mapclassify) (2.3.0)\n",
      "Requirement already satisfied: scikit-learn>=1.0 in /srv/conda/envs/notebook/lib/python3.10/site-packages (from mapclassify) (1.7.0)\n",
      "Requirement already satisfied: scipy>=1.8 in /srv/conda/envs/notebook/lib/python3.10/site-packages (from mapclassify) (1.15.3)\n",
      "Requirement already satisfied: MarkupSafe>=2.0 in /srv/conda/envs/notebook/lib/python3.10/site-packages (from jinja2>=2.9->folium) (3.0.2)\n",
      "Requirement already satisfied: pytz>=2020.1 in /srv/conda/envs/notebook/lib/python3.10/site-packages (from pandas!=1.5.0,>=1.4->mapclassify) (2025.1)\n",
      "Requirement already satisfied: tzdata>=2022.7 in /srv/conda/envs/notebook/lib/python3.10/site-packages (from pandas!=1.5.0,>=1.4->mapclassify) (2025.2)\n",
      "Requirement already satisfied: six>=1.5 in /srv/conda/envs/notebook/lib/python3.10/site-packages (from python-dateutil>=2.7->matplotlib) (1.17.0)\n",
      "Requirement already satisfied: joblib>=1.2.0 in /srv/conda/envs/notebook/lib/python3.10/site-packages (from scikit-learn>=1.0->mapclassify) (1.5.1)\n",
      "Requirement already satisfied: threadpoolctl>=3.1.0 in /srv/conda/envs/notebook/lib/python3.10/site-packages (from scikit-learn>=1.0->mapclassify) (3.6.0)\n",
      "Requirement already satisfied: charset_normalizer<4,>=2 in /srv/conda/envs/notebook/lib/python3.10/site-packages (from requests->folium) (3.4.1)\n",
      "Requirement already satisfied: idna<4,>=2.5 in /srv/conda/envs/notebook/lib/python3.10/site-packages (from requests->folium) (3.10)\n",
      "Requirement already satisfied: urllib3<3,>=1.21.1 in /srv/conda/envs/notebook/lib/python3.10/site-packages (from requests->folium) (2.3.0)\n",
      "Requirement already satisfied: certifi>=2017.4.17 in /srv/conda/envs/notebook/lib/python3.10/site-packages (from requests->folium) (2024.12.14)\n",
      "Note: you may need to restart the kernel to use updated packages.\n"
     ]
    }
   ],
   "source": [
    "pip install folium matplotlib mapclassify"
   ]
  },
  {
   "cell_type": "code",
   "execution_count": 6,
   "id": "74b1d61c-f62e-4647-9e4f-a86f1932daa3",
   "metadata": {},
   "outputs": [
    {
     "name": "stdout",
     "output_type": "stream",
     "text": [
      "Requirement already satisfied: pip in /srv/conda/envs/notebook/lib/python3.10/site-packages (25.1.1)\n",
      "Note: you may need to restart the kernel to use updated packages.\n"
     ]
    }
   ],
   "source": [
    "pip install --upgrade pip"
   ]
  },
  {
   "cell_type": "code",
   "execution_count": 7,
   "id": "12d6650b-4fac-40e8-aac9-f28fff06eb77",
   "metadata": {},
   "outputs": [
    {
     "name": "stdout",
     "output_type": "stream",
     "text": [
      "Requirement already satisfied: osmnx in /srv/conda/envs/notebook/lib/python3.10/site-packages (2.0.4)\n",
      "Requirement already satisfied: geopandas>=1.0 in /srv/conda/envs/notebook/lib/python3.10/site-packages (from osmnx) (1.1.0)\n",
      "Requirement already satisfied: networkx>=2.5 in /srv/conda/envs/notebook/lib/python3.10/site-packages (from osmnx) (3.4.2)\n",
      "Requirement already satisfied: numpy>=1.22 in /srv/conda/envs/notebook/lib/python3.10/site-packages (from osmnx) (2.2.6)\n",
      "Requirement already satisfied: pandas>=1.4 in /srv/conda/envs/notebook/lib/python3.10/site-packages (from osmnx) (2.3.0)\n",
      "Requirement already satisfied: requests>=2.27 in /srv/conda/envs/notebook/lib/python3.10/site-packages (from osmnx) (2.32.3)\n",
      "Requirement already satisfied: shapely>=2.0 in /srv/conda/envs/notebook/lib/python3.10/site-packages (from osmnx) (2.1.1)\n",
      "Requirement already satisfied: pyogrio>=0.7.2 in /srv/conda/envs/notebook/lib/python3.10/site-packages (from geopandas>=1.0->osmnx) (0.11.0)\n",
      "Requirement already satisfied: packaging in /srv/conda/envs/notebook/lib/python3.10/site-packages (from geopandas>=1.0->osmnx) (24.2)\n",
      "Requirement already satisfied: pyproj>=3.5.0 in /srv/conda/envs/notebook/lib/python3.10/site-packages (from geopandas>=1.0->osmnx) (3.7.1)\n",
      "Requirement already satisfied: python-dateutil>=2.8.2 in /srv/conda/envs/notebook/lib/python3.10/site-packages (from pandas>=1.4->osmnx) (2.9.0.post0)\n",
      "Requirement already satisfied: pytz>=2020.1 in /srv/conda/envs/notebook/lib/python3.10/site-packages (from pandas>=1.4->osmnx) (2025.1)\n",
      "Requirement already satisfied: tzdata>=2022.7 in /srv/conda/envs/notebook/lib/python3.10/site-packages (from pandas>=1.4->osmnx) (2025.2)\n",
      "Requirement already satisfied: certifi in /srv/conda/envs/notebook/lib/python3.10/site-packages (from pyogrio>=0.7.2->geopandas>=1.0->osmnx) (2024.12.14)\n",
      "Requirement already satisfied: six>=1.5 in /srv/conda/envs/notebook/lib/python3.10/site-packages (from python-dateutil>=2.8.2->pandas>=1.4->osmnx) (1.17.0)\n",
      "Requirement already satisfied: charset_normalizer<4,>=2 in /srv/conda/envs/notebook/lib/python3.10/site-packages (from requests>=2.27->osmnx) (3.4.1)\n",
      "Requirement already satisfied: idna<4,>=2.5 in /srv/conda/envs/notebook/lib/python3.10/site-packages (from requests>=2.27->osmnx) (3.10)\n",
      "Requirement already satisfied: urllib3<3,>=1.21.1 in /srv/conda/envs/notebook/lib/python3.10/site-packages (from requests>=2.27->osmnx) (2.3.0)\n",
      "Note: you may need to restart the kernel to use updated packages.\n"
     ]
    }
   ],
   "source": [
    "pip install osmnx"
   ]
  },
  {
   "cell_type": "code",
   "execution_count": null,
   "id": "753effbd-0363-4458-afda-7ed43069b629",
   "metadata": {},
   "outputs": [],
   "source": []
  }
 ],
 "metadata": {
  "kernelspec": {
   "display_name": "Python 3 (ipykernel)",
   "language": "python",
   "name": "python3"
  },
  "language_info": {
   "codemirror_mode": {
    "name": "ipython",
    "version": 3
   },
   "file_extension": ".py",
   "mimetype": "text/x-python",
   "name": "python",
   "nbconvert_exporter": "python",
   "pygments_lexer": "ipython3",
   "version": "3.10.16"
  }
 },
 "nbformat": 4,
 "nbformat_minor": 5
}
